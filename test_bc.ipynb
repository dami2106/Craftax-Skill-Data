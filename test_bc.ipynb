{
 "cells": [
  {
   "cell_type": "code",
   "execution_count": 1,
   "id": "74458582",
   "metadata": {},
   "outputs": [
    {
     "name": "stderr",
     "output_type": "stream",
     "text": [
      "Gym has been unmaintained since 2022 and does not support NumPy 2.0 amongst other critical functionality.\n",
      "Please upgrade to Gymnasium, the maintained drop-in replacement of Gym, or contact the authors of your software and request that they upgrade.\n",
      "Users of this version of Gym should be able to simply replace 'import gym' with 'import gymnasium as gym' in the vast majority of cases.\n",
      "See the migration guide at https://gymnasium.farama.org/introduction/migration_guide/ for additional information.\n"
     ]
    }
   ],
   "source": [
    "import torch\n",
    "import joblib\n",
    "import numpy as np\n",
    "from top_down_env import CraftaxTopDownEnv"
   ]
  },
  {
   "cell_type": "code",
   "execution_count": 2,
   "id": "76b94c98",
   "metadata": {},
   "outputs": [],
   "source": [
    "class Standardizer:\n",
    "    def __init__(self):\n",
    "        self.mean = None\n",
    "        self.std = None\n",
    "\n",
    "    def fit(self, X):\n",
    "        self.mean = X.mean(axis=0, keepdims=True)\n",
    "        self.std = X.std(axis=0, keepdims=True) + 1e-8\n",
    "        return self\n",
    "\n",
    "    def transform(self, X):\n",
    "        return (X - self.mean) / self.std\n",
    "\n",
    "    def fit_transform(self, X):\n",
    "        return self.fit(X).transform(X)\n",
    "\n",
    "class PolicyMLP(torch.nn.Module):\n",
    "    def __init__(self, d_in, n_actions=16, hidden_sizes=(384, 252), p_drop=0.1):\n",
    "        super().__init__()\n",
    "        layers = [torch.nn.LayerNorm(d_in)]\n",
    "        dim = d_in\n",
    "        for h in hidden_sizes:\n",
    "            layers += [torch.nn.Linear(dim, h), torch.nn.GELU(), torch.nn.Dropout(p_drop)]\n",
    "            dim = h\n",
    "        self.backbone = torch.nn.Sequential(*layers)\n",
    "        self.head = torch.nn.Linear(dim, n_actions)\n",
    "\n",
    "    def forward(self, x):\n",
    "        return self.head(self.backbone(x))\n",
    "    \n",
    "    "
   ]
  },
  {
   "cell_type": "code",
   "execution_count": 3,
   "id": "35e4a7e8",
   "metadata": {},
   "outputs": [
    {
     "data": {
      "text/plain": [
       "PolicyMLP(\n",
       "  (backbone): Sequential(\n",
       "    (0): LayerNorm((512,), eps=1e-05, elementwise_affine=True)\n",
       "    (1): Linear(in_features=512, out_features=384, bias=True)\n",
       "    (2): GELU(approximate='none')\n",
       "    (3): Dropout(p=0.1, inplace=False)\n",
       "    (4): Linear(in_features=384, out_features=252, bias=True)\n",
       "    (5): GELU(approximate='none')\n",
       "    (6): Dropout(p=0.1, inplace=False)\n",
       "  )\n",
       "  (head): Linear(in_features=252, out_features=16, bias=True)\n",
       ")"
      ]
     },
     "execution_count": 3,
     "metadata": {},
     "output_type": "execute_result"
    }
   ],
   "source": [
    "scaler = joblib.load(\"Traces/Test/skill_models/scaler_wood.pkl\")\n",
    "d_in = scaler.mean.shape[1]  \n",
    "model = PolicyMLP(d_in=d_in, n_actions=16, hidden_sizes=(384, 252))\n",
    "model.load_state_dict(torch.load(\"Traces/Test/skill_models/model_wood.pt\", map_location=\"cpu\"))\n",
    "model.eval()"
   ]
  },
  {
   "cell_type": "code",
   "execution_count": 4,
   "id": "77971b1e",
   "metadata": {},
   "outputs": [
    {
     "name": "stdout",
     "output_type": "stream",
     "text": [
      "Loaded model: PCA comps=512, expected features=225228\n"
     ]
    },
    {
     "name": "stderr",
     "output_type": "stream",
     "text": [
      "/Users/damionharvey/miniconda3/envs/hisd/lib/python3.10/site-packages/sklearn/base.py:376: InconsistentVersionWarning: Trying to unpickle estimator PCA from version 1.6.1 when using version 1.5.1. This might lead to breaking code or invalid results. Use at your own risk. For more info please refer to:\n",
      "https://scikit-learn.org/stable/model_persistence.html#security-maintainability-limitations\n",
      "  warnings.warn(\n",
      "/Users/damionharvey/miniconda3/envs/hisd/lib/python3.10/site-packages/sklearn/base.py:376: InconsistentVersionWarning: Trying to unpickle estimator StandardScaler from version 1.6.1 when using version 1.5.1. This might lead to breaking code or invalid results. Use at your own risk. For more info please refer to:\n",
      "https://scikit-learn.org/stable/model_persistence.html#security-maintainability-limitations\n",
      "  warnings.warn(\n"
     ]
    }
   ],
   "source": [
    "artifacts = joblib.load(\"Traces/Test/pca_model.joblib\")\n",
    "pca_scaler = artifacts['scaler']   # StandardScaler(with_std=False)\n",
    "pca = artifacts['pca']         # PCA(n_components=512)\n",
    "n_features_expected = pca_scaler.mean_.shape[0]\n",
    "print(f\"Loaded model: PCA comps={pca.n_components_}, expected features={n_features_expected}\")"
   ]
  },
  {
   "cell_type": "code",
   "execution_count": 5,
   "id": "2094a4f5",
   "metadata": {},
   "outputs": [],
   "source": [
    "def predict_action(obs):\n",
    "\n",
    "    img = np.asarray(obs, dtype=np.float32)  # shape (h, w, c)\n",
    "\n",
    "    imgs = img[None, ...]\n",
    "    n, h, w, c = imgs.shape\n",
    "    X = imgs.reshape(n, -1)\n",
    "\n",
    "\n",
    "    X_centered = pca_scaler.transform(X)\n",
    "    X_feats = pca.transform(X_centered)\n",
    "\n",
    "\n",
    "    state_std = scaler.transform(X_feats.reshape(1, -1))  # shape (1, 512)\n",
    "    x = torch.from_numpy(state_std).float()\n",
    "    with torch.no_grad():\n",
    "        logits = model(x)                 # shape (1, n_actions)\n",
    "        action = logits.argmax(dim=1).item()   # integer action\n",
    "    return action"
   ]
  },
  {
   "cell_type": "code",
   "execution_count": 6,
   "id": "46f767c4",
   "metadata": {},
   "outputs": [
    {
     "name": "stderr",
     "output_type": "stream",
     "text": [
      "INFO:2025-09-11 19:20:38,601:jax._src.xla_bridge:752: Unable to initialize backend 'tpu': INTERNAL: Failed to open libtpu.so: dlopen(libtpu.so, 0x0001): tried: 'libtpu.so' (no such file), '/System/Volumes/Preboot/Cryptexes/OSlibtpu.so' (no such file), '/Users/damionharvey/miniconda3/envs/hisd/bin/../lib/libtpu.so' (no such file), '/usr/lib/libtpu.so' (no such file, not in dyld cache), 'libtpu.so' (no such file)\n",
      "2025-09-11 19:20:38,601 - INFO - Unable to initialize backend 'tpu': INTERNAL: Failed to open libtpu.so: dlopen(libtpu.so, 0x0001): tried: 'libtpu.so' (no such file), '/System/Volumes/Preboot/Cryptexes/OSlibtpu.so' (no such file), '/Users/damionharvey/miniconda3/envs/hisd/bin/../lib/libtpu.so' (no such file), '/usr/lib/libtpu.so' (no such file, not in dyld cache), 'libtpu.so' (no such file)\n"
     ]
    },
    {
     "name": "stdout",
     "output_type": "stream",
     "text": [
      "Loading Craftax-Classic textures from cache.\n",
      "Textures successfully loaded from cache.\n"
     ]
    }
   ],
   "source": [
    "env = CraftaxTopDownEnv()\n",
    "obs = env.reset() #(274, 274, 3) image\n",
    "done = False\n",
    "total_reward = 0\n",
    "\n",
    "all_obs = [obs.copy()]\n",
    "\n",
    "for _ in range(25):\n",
    "    action = predict_action(obs)\n",
    "    obs, reward, done, info = env.step(action)\n",
    "    all_obs.append(obs.copy())\n",
    "    total_reward += reward\n"
   ]
  },
  {
   "cell_type": "code",
   "execution_count": 7,
   "id": "e042816f",
   "metadata": {},
   "outputs": [],
   "source": [
    "import imageio\n",
    "\n",
    "# Save observations as a GIF\n",
    "frames = [(np.clip(f, 0, 1) * 255).astype(np.uint8) for f in all_obs]\n",
    "imageio.mimsave(\"craftax_run.gif\", frames, fps=5)"
   ]
  }
 ],
 "metadata": {
  "kernelspec": {
   "display_name": "hisd",
   "language": "python",
   "name": "python3"
  },
  "language_info": {
   "codemirror_mode": {
    "name": "ipython",
    "version": 3
   },
   "file_extension": ".py",
   "mimetype": "text/x-python",
   "name": "python",
   "nbconvert_exporter": "python",
   "pygments_lexer": "ipython3",
   "version": "3.10.15"
  }
 },
 "nbformat": 4,
 "nbformat_minor": 5
}
