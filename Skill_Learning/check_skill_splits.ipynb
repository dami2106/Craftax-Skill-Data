{
 "cells": [
  {
   "cell_type": "code",
   "execution_count": 63,
   "id": "04d32ba0",
   "metadata": {},
   "outputs": [],
   "source": [
    "from skill_helpers import * \n",
    "import torch\n",
    "import torch.nn.functional as F\n",
    "import numpy as np\n",
    "import os \n",
    "import joblib \n",
    "import json \n",
    "from joblib import load as joblib_load"
   ]
  },
  {
   "cell_type": "code",
   "execution_count": null,
   "id": "12ff0134",
   "metadata": {},
   "outputs": [],
   "source": [
    "#Used for original data to get it into the format of the new data and models \n",
    "\n"
   ]
  }
 ],
 "metadata": {
  "kernelspec": {
   "display_name": "SOTA",
   "language": "python",
   "name": "python3"
  },
  "language_info": {
   "codemirror_mode": {
    "name": "ipython",
    "version": 3
   },
   "file_extension": ".py",
   "mimetype": "text/x-python",
   "name": "python",
   "nbconvert_exporter": "python",
   "pygments_lexer": "ipython3",
   "version": "3.10.15"
  }
 },
 "nbformat": 4,
 "nbformat_minor": 5
}
