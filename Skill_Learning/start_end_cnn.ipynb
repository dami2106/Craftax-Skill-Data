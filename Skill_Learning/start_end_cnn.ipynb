{
 "cells": [
  {
   "cell_type": "code",
   "execution_count": 1,
   "id": "360abe24",
   "metadata": {},
   "outputs": [],
   "source": [
    "import os\n",
    "import json\n",
    "import numpy as np\n",
    "from sklearn.pipeline import make_pipeline\n",
    "from sklearn.preprocessing import StandardScaler\n",
    "from sklearn.metrics import (\n",
    "    precision_recall_curve,\n",
    "    precision_recall_fscore_support,\n",
    "    confusion_matrix,\n",
    "    average_precision_score,\n",
    ")\n",
    "from sklearn.model_selection import GroupShuffleSplit, StratifiedGroupKFold\n",
    "from sklearn.svm import SVC  # use SVC(probability=True); LinearSVC has no predict_proba\n",
    "from pulearn import ElkanotoPuClassifier, BaggingPuClassifier\n",
    "from joblib import dump\n",
    "import pandas as pd\n",
    "\n",
    "from skill_helpers import *  # assumes build_startability_dataset, get_unique_skills etc.\n"
   ]
  },
  {
   "cell_type": "code",
   "execution_count": null,
   "id": "41063dfb",
   "metadata": {},
   "outputs": [],
   "source": [
    "files = os.listdir(os.path.join('../Traces/stone_pickaxe_easy', 'groundTruth'))\n",
    "X, y, groups = build_startability_dataset( '../Traces/stone_pickaxe_easy', 'wood', files, features_dirname='pixel_obs')"
   ]
  }
 ],
 "metadata": {
  "kernelspec": {
   "display_name": "SOTA",
   "language": "python",
   "name": "python3"
  },
  "language_info": {
   "codemirror_mode": {
    "name": "ipython",
    "version": 3
   },
   "file_extension": ".py",
   "mimetype": "text/x-python",
   "name": "python",
   "nbconvert_exporter": "python",
   "pygments_lexer": "ipython3",
   "version": "3.10.15"
  }
 },
 "nbformat": 4,
 "nbformat_minor": 5
}
