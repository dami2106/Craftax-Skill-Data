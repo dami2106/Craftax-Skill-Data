{
 "cells": [
  {
   "cell_type": "code",
   "execution_count": null,
   "id": "d565253a",
   "metadata": {},
   "outputs": [],
   "source": [
    "import json\n",
    "import os\n",
    "import numpy as np\n",
    "# Path to your JSON file\n",
    "file_path = \"Traces/stone_pick_static/ompn_raw_stone_pick_static_pixels_big.json\"\n",
    "\n",
    "# Open and load JSON data\n",
    "with open(file_path, \"r\") as f:\n",
    "    data = json.load(f)\n",
    "\n",
    "# Print some information about the file\n",
    "print(\"Top-level keys:\", data.keys() if isinstance(data, dict) else type(data))\n"
   ]
  },
  {
   "cell_type": "code",
   "execution_count": null,
   "id": "7223529c",
   "metadata": {},
   "outputs": [],
   "source": [
    "print(data['episode_details'][0].keys())"
   ]
  },
  {
   "cell_type": "code",
   "execution_count": null,
   "id": "77d0622a",
   "metadata": {},
   "outputs": [],
   "source": [
    "\n",
    "#List all the .npy files in Traces/stone_pick_static/actions\n",
    "action_files = [f for f in os.listdir(\"Traces/stone_pick_static/actions\") if f.endswith('.npy')]\n",
    "\n",
    "os.makedirs(\"Traces/stone_pick_static/ompn_skills\", exist_ok=True)\n",
    "\n",
    "for ep in data['episode_details']:\n",
    "    ep_id = ep['ep_idx']\n",
    "    ep_skills = [str(x) for x in ep['decoded_subtask']]\n",
    "    actions = ep['actions'] + [0]\n",
    "\n",
    "    for gt_a in action_files:\n",
    "        loaded_a = np.load(f\"Traces/stone_pick_static/actions/{gt_a}\")\n",
    "        if np.array_equal(actions, loaded_a):\n",
    "            file_name = gt_a.replace('.npy', '')\n",
    "            with open(f\"Traces/stone_pick_static/ompn_skills/{file_name}\", \"w\") as f:\n",
    "                f.write(\"\\n\".join(ep_skills))\n"
   ]
  },
  {
   "cell_type": "markdown",
   "id": "baa68d0f",
   "metadata": {},
   "source": [
    "# Compile"
   ]
  },
  {
   "cell_type": "code",
   "execution_count": null,
   "id": "f8839d1f",
   "metadata": {},
   "outputs": [],
   "source": [
    "import json\n",
    "import os\n",
    "import numpy as np\n",
    "# Path to your JSON file\n",
    "file_path = \"Traces/stone_pick_static/compile_data.json\"\n",
    "\n",
    "# Open and load JSON data\n",
    "with open(file_path, \"r\") as f:\n",
    "    data = json.load(f)\n",
    "\n",
    "data[0].keys()\n"
   ]
  },
  {
   "cell_type": "code",
   "execution_count": null,
   "id": "9db8024f",
   "metadata": {},
   "outputs": [],
   "source": [
    "\n",
    "#List all the .npy files in Traces/stone_pick_static/actions\n",
    "action_files = [f for f in os.listdir(\"Traces/stone_pick_static/actions\") if f.endswith('.npy')]\n",
    "\n",
    "os.makedirs(\"Traces/stone_pick_static/compile_skills\", exist_ok=True)\n",
    "\n",
    "for ep in data:\n",
    "    ep_skills = [str(x) for x in ep['predicted_skills_static']]\n",
    "    actions = ep['actions'] + [0]\n",
    "\n",
    "    for gt_a in action_files:\n",
    "        loaded_a = np.load(f\"Traces/stone_pick_static/actions/{gt_a}\")\n",
    "        if np.array_equal(actions, loaded_a):\n",
    "            file_name = gt_a.replace('.npy', '')\n",
    "            with open(f\"Traces/stone_pick_static/compile_skills/{file_name}\", \"w\") as f:\n",
    "                f.write(\"\\n\".join(ep_skills))"
   ]
  },
  {
   "cell_type": "markdown",
   "id": "ae7082ff",
   "metadata": {},
   "source": [
    "# Fix OMPN Trees -> ASOT Format"
   ]
  }
 ],
 "metadata": {
  "kernelspec": {
   "display_name": "SOTA",
   "language": "python",
   "name": "python3"
  },
  "language_info": {
   "codemirror_mode": {
    "name": "ipython",
    "version": 3
   },
   "file_extension": ".py",
   "mimetype": "text/x-python",
   "name": "python",
   "nbconvert_exporter": "python",
   "pygments_lexer": "ipython3",
   "version": "3.10.15"
  }
 },
 "nbformat": 4,
 "nbformat_minor": 5
}
